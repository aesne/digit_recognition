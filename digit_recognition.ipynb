{
 "cells": [
  {
   "cell_type": "markdown",
   "metadata": {},
   "source": [
    "# 机器学习工程师纳米学位\n",
    "## 深度学习\n",
    "## 项目：搭建一个数字识别项目\n",
    "\n",
    "在此文件中，我们提供给你了一个模板，以便于你根据项目的要求一步步实现要求的功能，进而完成整个项目。如果你认为需要导入另外的一些代码，请确保你正确导入了他们，并且包含在你的提交文件中。以**'练习'**开始的标题表示接下来你将开始实现你的项目。注意有一些练习是可选的，并且用**'可选'**标记出来了。\n",
    "\n",
    "在此文件中，有些示例代码已经提供给你，但你还需要实现更多的功能让项目成功运行。除非有明确要求，你无须修改任何已给出的代码。以'练习'开始的标题表示接下来的代码部分中有你必须要实现的功能。每一部分都会有详细的指导，需要实现的部分也会在注释中以'TODO'标出。请仔细阅读所有的提示！\n",
    "\n",
    "除了实现代码外，你还必须回答一些与项目和你的实现有关的问题。每一个需要你回答的问题都会以**'问题 X'**为标题。请仔细阅读每个问题，并且在问题后的**'回答'**文字框中写出完整的答案。我们将根据你对问题的回答和撰写代码所实现的功能来对你提交的项目进行评分。\n",
    "\n",
    ">**注意：** Code 和 Markdown 区域可通过 **Shift + Enter** 快捷键运行。此外，Markdown可以通过双击进入编辑模式。"
   ]
  },
  {
   "cell_type": "markdown",
   "metadata": {},
   "source": [
    "## 连接 mnist 的字符来合成数据\n",
    "\n",
    "你可以通过连接[MNIST](http://yann.lecun.com/exdb/mnist/)的字符来合成数据来训练这个模型。为了快速导入数据集，我们可以使用 [Keras Datasets](https://keras.io/datasets/#mnist-database-of-handwritten-digits) [中文文档](http://keras-cn.readthedocs.io/en/latest/other/datasets/#mnist)。"
   ]
  },
  {
   "cell_type": "markdown",
   "metadata": {},
   "source": [
    "### 载入 mnist"
   ]
  },
  {
   "cell_type": "code",
   "execution_count": 2,
   "metadata": {},
   "outputs": [
    {
     "ename": "ImportError",
     "evalue": "No module named keras.datasets",
     "output_type": "error",
     "traceback": [
      "\u001b[1;31m---------------------------------------------------------------------------\u001b[0m",
      "\u001b[1;31mImportError\u001b[0m                               Traceback (most recent call last)",
      "\u001b[1;32m<ipython-input-2-a4751afb27c5>\u001b[0m in \u001b[0;36m<module>\u001b[1;34m()\u001b[0m\n\u001b[1;32m----> 1\u001b[1;33m \u001b[1;32mfrom\u001b[0m \u001b[0mkeras\u001b[0m\u001b[1;33m.\u001b[0m\u001b[0mdatasets\u001b[0m \u001b[1;32mimport\u001b[0m \u001b[0mmnist\u001b[0m\u001b[1;33m\u001b[0m\u001b[0m\n\u001b[0m\u001b[0;32m      2\u001b[0m \u001b[1;33m\u001b[0m\u001b[0m\n\u001b[0;32m      3\u001b[0m \u001b[1;33m(\u001b[0m\u001b[0mX_raw\u001b[0m\u001b[1;33m,\u001b[0m \u001b[0my_raw\u001b[0m\u001b[1;33m)\u001b[0m\u001b[1;33m,\u001b[0m \u001b[1;33m(\u001b[0m\u001b[0mX_raw_test\u001b[0m\u001b[1;33m,\u001b[0m \u001b[0my_raw_test\u001b[0m\u001b[1;33m)\u001b[0m \u001b[1;33m=\u001b[0m \u001b[0mmnist\u001b[0m\u001b[1;33m.\u001b[0m\u001b[0mload_data\u001b[0m\u001b[1;33m(\u001b[0m\u001b[1;33m)\u001b[0m\u001b[1;33m\u001b[0m\u001b[0m\n\u001b[0;32m      4\u001b[0m \u001b[1;33m\u001b[0m\u001b[0m\n\u001b[0;32m      5\u001b[0m \u001b[0mn_train\u001b[0m\u001b[1;33m,\u001b[0m \u001b[0mn_test\u001b[0m \u001b[1;33m=\u001b[0m \u001b[0mX_raw\u001b[0m\u001b[1;33m.\u001b[0m\u001b[0mshape\u001b[0m\u001b[1;33m[\u001b[0m\u001b[1;36m0\u001b[0m\u001b[1;33m]\u001b[0m\u001b[1;33m,\u001b[0m \u001b[0mX_raw_test\u001b[0m\u001b[1;33m.\u001b[0m\u001b[0mshape\u001b[0m\u001b[1;33m[\u001b[0m\u001b[1;36m0\u001b[0m\u001b[1;33m]\u001b[0m\u001b[1;33m\u001b[0m\u001b[0m\n",
      "\u001b[1;31mImportError\u001b[0m: No module named keras.datasets"
     ]
    }
   ],
   "source": [
    "from keras.datasets import mnist\n",
    "\n",
    "(X_raw, y_raw), (X_raw_test, y_raw_test) = mnist.load_data()\n",
    "\n",
    "n_train, n_test = X_raw.shape[0], X_raw_test.shape[0]"
   ]
  },
  {
   "cell_type": "markdown",
   "metadata": {},
   "source": [
    "### 可视化 mnist\n",
    "\n",
    "我们可以通过 matplotlib 来可视化我们的原始数据集。"
   ]
  },
  {
   "cell_type": "code",
   "execution_count": 2,
   "metadata": {},
   "outputs": [
    {
     "data": {
      "image/png": "[encoded data removed]",
      "text/plain": [
       "<matplotlib.figure.Figure at 0x7f97f72eae10>"
      ]
     },
     "metadata": {
      "image/png": {
       "height": 257,
       "width": 370
      }
     },
     "output_type": "display_data"
    }
   ],
   "source": [
    "import matplotlib.pyplot as plt\n",
    "import random\n",
    "\n",
    "%matplotlib inline\n",
    "%config InlineBackend.figure_format = 'retina'\n",
    "\n",
    "for i in range(15):\n",
    "    plt.subplot(3, 5, i+1)\n",
    "    index = random.randint(0, n_train-1)\n",
    "    plt.title(str(y_raw[index]))\n",
    "    plt.imshow(X_raw[index], cmap='gray')\n",
    "    plt.axis('off')"
   ]
  },
  {
   "cell_type": "markdown",
   "metadata": {},
   "source": [
    "### 练习：合成数据\n",
    "\n",
    "你需要随机取随机张图片，然后将它们拼接成新的图片。\n",
    "\n",
    "你需要设置20%的数据作为验证集，以保证模型没有过拟合。"
   ]
  },
  {
   "cell_type": "code",
   "execution_count": 3,
   "metadata": {
    "collapsed": true
   },
   "outputs": [],
   "source": [
    "import numpy as np\n",
    "from sklearn.model_selection import train_test_split\n",
    "\n",
    "n_class, n_len, width, height = 11, 5, 28, 28\n",
    "\n",
    "def generate_dataset(X, y):\n",
    "    X_len = X.shape[0]\n",
    "    \n",
    "    X_gen = np.zeros((X_len, height, width*n_len, 1), dtype=np.uint8)\n",
    "    y_gen = [np.zeros((X_len, n_class), dtype=np.uint8) for i in range(n_len)]\n",
    "    # TODO: 随机取1~5个数字，并拼接成新的图片\n",
    "    for i in range(X_len):\n",
    "        n = random.randint(1, n_len)  # 新图片中数字的个数\n",
    "        for j in range(n):\n",
    "            index = random.randint(0, X_len-1)\n",
    "            X_gen[i, :, width*j:width*(j+1), 0] = X[index]\n",
    "            y_gen[j][i, y[index]] = 1\n",
    "        for j in range(n, n_len):\n",
    "            y_gen[j][i, 10] = 1  # 10表示空    \n",
    "    return X_gen, y_gen\n",
    "\n",
    "X_raw_train, X_raw_valid, y_raw_train, y_raw_valid = train_test_split(X_raw, y_raw, test_size=0.2, random_state=42)\n",
    "\n",
    "X_train, y_train = generate_dataset(X_raw_train, y_raw_train)\n",
    "X_valid, y_valid = generate_dataset(X_raw_valid, y_raw_valid)\n",
    "X_test, y_test = generate_dataset(X_raw_test, y_raw_test)"
   ]
  },
  {
   "cell_type": "code",
   "execution_count": 4,
   "metadata": {},
   "outputs": [
    {
     "data": {
      "image/png": "[encoded data removed]",
      "text/plain": [
       "<matplotlib.figure.Figure at 0x7f97fbf358d0>"
      ]
     },
     "metadata": {
      "image/png": {
       "height": 246,
       "width": 370
      }
     },
     "output_type": "display_data"
    }
   ],
   "source": [
    "# 显示生成的图片\n",
    "for i in range(15):\n",
    "    plt.subplot(5, 3, i+1)\n",
    "    index = random.randint(0, n_test-1)\n",
    "    title = ''\n",
    "    for j in range(n_len):\n",
    "        title += str(np.argmax(y_test[j][index])) + ','\n",
    "    \n",
    "    plt.title(title)\n",
    "    plt.imshow(X_test[index][:,:,0], cmap='gray')\n",
    "    plt.axis('off')"
   ]
  },
  {
   "cell_type": "markdown",
   "metadata": {},
   "source": [
    "### 问题 1\n",
    "_你是如何合成数据集的？，为什么要分训练集，验证集和测试集？_\n",
    "\n",
    "**回答：**\n",
    "- 合成数据集与原数据集数量相同; 每个新数据相当于5个原数据; 前$n$个($n\\in[1, 5]$) 为原数据集中随机抽取的数据, 后($5-n$)个为空, 空的`label`为`[0,0,0,0,0,0,0,0,0,0,1]`\n",
    "- 训练集为训练模型，验证集用来评估模型，并作为优化模型参数的参考，测试集模拟最终模型的泛化效果。\n"
   ]
  },
  {
   "cell_type": "markdown",
   "metadata": {},
   "source": [
    "### 练习：设计并测试一个模型架构\n",
    "\n",
    "设计并实现一个能够识别数字序列的深度学习模型。为了产生用于测试的合成数字序列，你可以进行如下的设置：比如，你可以限制一个数据序列最多五个数字，并在你的深度网络上使用五个分类器。同时，你有必要准备一个额外的“空白”的字符，以处理相对较短的数字序列。\n",
    "\n",
    "在思考这个问题的时候有很多方面可以考虑：\n",
    "\n",
    "- 你的模型可以基于深度神经网络或者是卷积神经网络。\n",
    "- 你可以尝试是否在每个分类器间共享权值。\n",
    "- 你还可以在深度神经网络中使用循环网络来替换其中的分类层，并且将数字序列里的数字一个一个地输出。\n",
    "\n",
    "在使用 Keras 搭建模型的时候，你可以使用 [函数式模型 API](http://keras-cn.readthedocs.io/en/latest/models/model/) 的方式来搭建多输出模型。"
   ]
  },
  {
   "cell_type": "code",
   "execution_count": 8,
   "metadata": {
    "collapsed": true,
    "scrolled": false
   },
   "outputs": [],
   "source": [
    "from keras.models import Model\n",
    "from keras.layers import *\n",
    "from keras.optimizers import Adam\n",
    "\n",
    "# TODO: 构建你的模型\n",
    "inputs = Input(shape=(height, width*n_len, 1))\n",
    "\n",
    "x = Conv2D(32, 3, strides=1, padding='same', activation='relu', kernel_initializer='he_normal')(inputs)\n",
    "x = Conv2D(32, 3, strides=1, padding='same', activation='relu', kernel_initializer='he_normal')(x)\n",
    "x = MaxPooling2D(2, 2, 'same')(x)\n",
    "x = Dropout(0.25)(x)\n",
    "\n",
    "x = Conv2D(64, 3, strides=1, padding='same', activation='relu', kernel_initializer='he_normal')(x)\n",
    "x = Conv2D(64, 3, strides=1, padding='same', activation='relu', kernel_initializer='he_normal')(x)\n",
    "x = MaxPooling2D(2, 2, 'same')(x)\n",
    "x = Dropout(0.25)(x)\n",
    "\n",
    "x = Flatten()(x)\n",
    "x = Dense(256, activation='relu', kernel_initializer='he_normal')(x)\n",
    "x = Dropout(0.5)(x)\n",
    "\n",
    "outputs = [Dense(n_class, activation='softmax', kernel_initializer='he_normal')(x) for i in range(n_len)]\n",
    "\n",
    "model = Model(inputs=inputs, outputs=outputs)\n",
    "model.compile(Adam, 'categorical_crossentropy', ['categorical_accuracy'])"
   ]
  },
  {
   "cell_type": "markdown",
   "metadata": {},
   "source": [
    "### 问题 2\n",
    "_你为解决这个问题采取了什么技术？请详细介绍你使用的技术。_\n",
    "\n",
    "**回答：** \n",
    "我采用了类VGG方法。在模型中使用多个层，每层卷积channel大，但是采用(3, 3)卷积核减少参数数量，同时利用最大池化减少参数，利用dropout防止过拟合，最终利用softmax的全连接层作为分类输出。\n",
    "\n",
    "> 正确构建了模型，不过有个值得注意的地方就是，参数初始化你选择了 truncated_normal 初始化，它的标准差默认是 0.05，但是由于网络结构复杂度各不相同，使用固定的标准差会让模型表现不佳。\n",
    "\n",
    "> 你可以参考这个链接里面的初始化的介绍：http://cs231n.github.io/neural-networks-2/#init\n",
    "翻译版：https://zhuanlan.zhihu.com/p/21560667\n",
    "\n",
    "> 论文参考链接：https://arxiv.org/abs/1502.01852\n",
    "\n",
    "> 根据这篇文章里的理论，ReLU 应该使用 [he_normal](https://keras.io/initializers/#he_normal) 初始化，不过事实上 Keras 默认的 [glorot_uniform](https://keras.io/initializers/#glorot_uniform) 也是不错的初始化方式。\n",
    "\n",
    "> 至于 bias，Keras 默认都是全0初始化的，你也可以考虑一下。\n",
    "\n",
    "> 还有一点值得注意的地方就是，优化器可以选择 Adam 一类的自适应优化算法，会有更好的表现。"
   ]
  },
  {
   "cell_type": "markdown",
   "metadata": {},
   "source": [
    "### 可视化你的网络模型\n",
    "\n",
    "参考链接：[可视化visualization](http://keras-cn.readthedocs.io/en/latest/other/visualization/)\n",
    "\n",
    "可以是保存成 PNG 格式显示，也可以直接使用 SVG 格式。 SVG 是矢量图，它的优点是可以无限放大。"
   ]
  },
  {
   "cell_type": "code",
   "execution_count": 9,
   "metadata": {},
   "outputs": [
    {
     "data": {
      "image/svg+xml": [
       "<svg height=\"1051pt\" viewBox=\"0.00 0.00 1301.50 1051.00\" width=\"1302pt\" xmlns=\"http://www.w3.org/2000/svg\" xmlns:xlink=\"http://www.w3.org/1999/xlink\">\n",
       "<g class=\"graph\" id=\"graph0\" transform=\"scale(1 1) rotate(0) translate(4 1047)\">\n",
       "<title>G</title>\n",
       "<polygon fill=\"white\" points=\"-4,4 -4,-1047 1297.5,-1047 1297.5,4 -4,4\" stroke=\"none\"/>\n",
       "<!-- 140290656071632 -->\n",
       "<g class=\"node\" id=\"node1\"><title>140290656071632</title>\n",
       "<polygon fill=\"none\" points=\"491,-996.5 491,-1042.5 789,-1042.5 789,-996.5 491,-996.5\" stroke=\"black\"/>\n",
       "<text font-family=\"Times,serif\" font-size=\"14.00\" text-anchor=\"middle\" x=\"553.5\" y=\"-1015.8\">input_2: InputLayer</text>\n",
       "<polyline fill=\"none\" points=\"616,-996.5 616,-1042.5 \" stroke=\"black\"/>\n",
       "<text font-family=\"Times,serif\" font-size=\"14.00\" text-anchor=\"middle\" x=\"643.5\" y=\"-1027.3\">input:</text>\n",
       "<polyline fill=\"none\" points=\"616,-1019.5 671,-1019.5 \" stroke=\"black\"/>\n",
       "<text font-family=\"Times,serif\" font-size=\"14.00\" text-anchor=\"middle\" x=\"643.5\" y=\"-1004.3\">output:</text>\n",
       "<polyline fill=\"none\" points=\"671,-996.5 671,-1042.5 \" stroke=\"black\"/>\n",
       "<text font-family=\"Times,serif\" font-size=\"14.00\" text-anchor=\"middle\" x=\"730\" y=\"-1027.3\">(None, 28, 140, 1)</text>\n",
       "<polyline fill=\"none\" points=\"671,-1019.5 789,-1019.5 \" stroke=\"black\"/>\n",
       "<text font-family=\"Times,serif\" font-size=\"14.00\" text-anchor=\"middle\" x=\"730\" y=\"-1004.3\">(None, 28, 140, 1)</text>\n",
       "</g>\n",
       "<!-- 140290656069584 -->\n",
       "<g class=\"node\" id=\"node2\"><title>140290656069584</title>\n",
       "<polygon fill=\"none\" points=\"488.5,-913.5 488.5,-959.5 791.5,-959.5 791.5,-913.5 488.5,-913.5\" stroke=\"black\"/>\n",
       "<text font-family=\"Times,serif\" font-size=\"14.00\" text-anchor=\"middle\" x=\"550\" y=\"-932.8\">conv2d_5: Conv2D</text>\n",
       "<polyline fill=\"none\" points=\"611.5,-913.5 611.5,-959.5 \" stroke=\"black\"/>\n",
       "<text font-family=\"Times,serif\" font-size=\"14.00\" text-anchor=\"middle\" x=\"639\" y=\"-944.3\">input:</text>\n",
       "<polyline fill=\"none\" points=\"611.5,-936.5 666.5,-936.5 \" stroke=\"black\"/>\n",
       "<text font-family=\"Times,serif\" font-size=\"14.00\" text-anchor=\"middle\" x=\"639\" y=\"-921.3\">output:</text>\n",
       "<polyline fill=\"none\" points=\"666.5,-913.5 666.5,-959.5 \" stroke=\"black\"/>\n",
       "<text font-family=\"Times,serif\" font-size=\"14.00\" text-anchor=\"middle\" x=\"729\" y=\"-944.3\">(None, 28, 140, 1)</text>\n",
       "<polyline fill=\"none\" points=\"666.5,-936.5 791.5,-936.5 \" stroke=\"black\"/>\n",
       "<text font-family=\"Times,serif\" font-size=\"14.00\" text-anchor=\"middle\" x=\"729\" y=\"-921.3\">(None, 28, 140, 32)</text>\n",
       "</g>\n",
       "<!-- 140290656071632&#45;&gt;140290656069584 -->\n",
       "<g class=\"edge\" id=\"edge1\"><title>140290656071632-&gt;140290656069584</title>\n",
       "<path d=\"M640,-996.366C640,-988.152 640,-978.658 640,-969.725\" fill=\"none\" stroke=\"black\"/>\n",
       "<polygon fill=\"black\" points=\"643.5,-969.607 640,-959.607 636.5,-969.607 643.5,-969.607\" stroke=\"black\"/>\n",
       "</g>\n",
       "<!-- 140290656069712 -->\n",
       "<g class=\"node\" id=\"node3\"><title>140290656069712</title>\n",
       "<polygon fill=\"none\" points=\"488.5,-830.5 488.5,-876.5 791.5,-876.5 791.5,-830.5 488.5,-830.5\" stroke=\"black\"/>\n",
       "<text font-family=\"Times,serif\" font-size=\"14.00\" text-anchor=\"middle\" x=\"550\" y=\"-849.8\">conv2d_6: Conv2D</text>\n",
       "<polyline fill=\"none\" points=\"611.5,-830.5 611.5,-876.5 \" stroke=\"black\"/>\n",
       "<text font-family=\"Times,serif\" font-size=\"14.00\" text-anchor=\"middle\" x=\"639\" y=\"-861.3\">input:</text>\n",
       "<polyline fill=\"none\" points=\"611.5,-853.5 666.5,-853.5 \" stroke=\"black\"/>\n",
       "<text font-family=\"Times,serif\" font-size=\"14.00\" text-anchor=\"middle\" x=\"639\" y=\"-838.3\">output:</text>\n",
       "<polyline fill=\"none\" points=\"666.5,-830.5 666.5,-876.5 \" stroke=\"black\"/>\n",
       "<text font-family=\"Times,serif\" font-size=\"14.00\" text-anchor=\"middle\" x=\"729\" y=\"-861.3\">(None, 28, 140, 32)</text>\n",
       "<polyline fill=\"none\" points=\"666.5,-853.5 791.5,-853.5 \" stroke=\"black\"/>\n",
       "<text font-family=\"Times,serif\" font-size=\"14.00\" text-anchor=\"middle\" x=\"729\" y=\"-838.3\">(None, 28, 140, 32)</text>\n",
       "</g>\n",
       "<!-- 140290656069584&#45;&gt;140290656069712 -->\n",
       "<g class=\"edge\" id=\"edge2\"><title>140290656069584-&gt;140290656069712</title>\n",
       "<path d=\"M640,-913.366C640,-905.152 640,-895.658 640,-886.725\" fill=\"none\" stroke=\"black\"/>\n",
       "<polygon fill=\"black\" points=\"643.5,-886.607 640,-876.607 636.5,-886.607 643.5,-886.607\" stroke=\"black\"/>\n",
       "</g>\n",
       "<!-- 140290656069776 -->\n",
       "<g class=\"node\" id=\"node4\"><title>140290656069776</title>\n",
       "<polygon fill=\"none\" points=\"446.5,-747.5 446.5,-793.5 833.5,-793.5 833.5,-747.5 446.5,-747.5\" stroke=\"black\"/>\n",
       "<text font-family=\"Times,serif\" font-size=\"14.00\" text-anchor=\"middle\" x=\"550\" y=\"-766.8\">max_pooling2d_3: MaxPooling2D</text>\n",
       "<polyline fill=\"none\" points=\"653.5,-747.5 653.5,-793.5 \" stroke=\"black\"/>\n",
       "<text font-family=\"Times,serif\" font-size=\"14.00\" text-anchor=\"middle\" x=\"681\" y=\"-778.3\">input:</text>\n",
       "<polyline fill=\"none\" points=\"653.5,-770.5 708.5,-770.5 \" stroke=\"black\"/>\n",
       "<text font-family=\"Times,serif\" font-size=\"14.00\" text-anchor=\"middle\" x=\"681\" y=\"-755.3\">output:</text>\n",
       "<polyline fill=\"none\" points=\"708.5,-747.5 708.5,-793.5 \" stroke=\"black\"/>\n",
       "<text font-family=\"Times,serif\" font-size=\"14.00\" text-anchor=\"middle\" x=\"771\" y=\"-778.3\">(None, 28, 140, 32)</text>\n",
       "<polyline fill=\"none\" points=\"708.5,-770.5 833.5,-770.5 \" stroke=\"black\"/>\n",
       "<text font-family=\"Times,serif\" font-size=\"14.00\" text-anchor=\"middle\" x=\"771\" y=\"-755.3\">(None, 14, 70, 32)</text>\n",
       "</g>\n",
       "<!-- 140290656069712&#45;&gt;140290656069776 -->\n",
       "<g class=\"edge\" id=\"edge3\"><title>140290656069712-&gt;140290656069776</title>\n",
       "<path d=\"M640,-830.366C640,-822.152 640,-812.658 640,-803.725\" fill=\"none\" stroke=\"black\"/>\n",
       "<polygon fill=\"black\" points=\"643.5,-803.607 640,-793.607 636.5,-803.607 643.5,-803.607\" stroke=\"black\"/>\n",
       "</g>\n",
       "<!-- 140290656679952 -->\n",
       "<g class=\"node\" id=\"node5\"><title>140290656679952</title>\n",
       "<polygon fill=\"none\" points=\"491,-664.5 491,-710.5 789,-710.5 789,-664.5 491,-664.5\" stroke=\"black\"/>\n",
       "<text font-family=\"Times,serif\" font-size=\"14.00\" text-anchor=\"middle\" x=\"553.5\" y=\"-683.8\">dropout_4: Dropout</text>\n",
       "<polyline fill=\"none\" points=\"616,-664.5 616,-710.5 \" stroke=\"black\"/>\n",
       "<text font-family=\"Times,serif\" font-size=\"14.00\" text-anchor=\"middle\" x=\"643.5\" y=\"-695.3\">input:</text>\n",
       "<polyline fill=\"none\" points=\"616,-687.5 671,-687.5 \" stroke=\"black\"/>\n",
       "<text font-family=\"Times,serif\" font-size=\"14.00\" text-anchor=\"middle\" x=\"643.5\" y=\"-672.3\">output:</text>\n",
       "<polyline fill=\"none\" points=\"671,-664.5 671,-710.5 \" stroke=\"black\"/>\n",
       "<text font-family=\"Times,serif\" font-size=\"14.00\" text-anchor=\"middle\" x=\"730\" y=\"-695.3\">(None, 14, 70, 32)</text>\n",
       "<polyline fill=\"none\" points=\"671,-687.5 789,-687.5 \" stroke=\"black\"/>\n",
       "<text font-family=\"Times,serif\" font-size=\"14.00\" text-anchor=\"middle\" x=\"730\" y=\"-672.3\">(None, 14, 70, 32)</text>\n",
       "</g>\n",
       "<!-- 140290656069776&#45;&gt;140290656679952 -->\n",
       "<g class=\"edge\" id=\"edge4\"><title>140290656069776-&gt;140290656679952</title>\n",
       "<path d=\"M640,-747.366C640,-739.152 640,-729.658 640,-720.725\" fill=\"none\" stroke=\"black\"/>\n",
       "<polygon fill=\"black\" points=\"643.5,-720.607 640,-710.607 636.5,-720.607 643.5,-720.607\" stroke=\"black\"/>\n",
       "</g>\n",
       "<!-- 140290654676496 -->\n",
       "<g class=\"node\" id=\"node6\"><title>140290654676496</title>\n",
       "<polygon fill=\"none\" points=\"492,-581.5 492,-627.5 788,-627.5 788,-581.5 492,-581.5\" stroke=\"black\"/>\n",
       "<text font-family=\"Times,serif\" font-size=\"14.00\" text-anchor=\"middle\" x=\"553.5\" y=\"-600.8\">conv2d_7: Conv2D</text>\n",
       "<polyline fill=\"none\" points=\"615,-581.5 615,-627.5 \" stroke=\"black\"/>\n",
       "<text font-family=\"Times,serif\" font-size=\"14.00\" text-anchor=\"middle\" x=\"642.5\" y=\"-612.3\">input:</text>\n",
       "<polyline fill=\"none\" points=\"615,-604.5 670,-604.5 \" stroke=\"black\"/>\n",
       "<text font-family=\"Times,serif\" font-size=\"14.00\" text-anchor=\"middle\" x=\"642.5\" y=\"-589.3\">output:</text>\n",
       "<polyline fill=\"none\" points=\"670,-581.5 670,-627.5 \" stroke=\"black\"/>\n",
       "<text font-family=\"Times,serif\" font-size=\"14.00\" text-anchor=\"middle\" x=\"729\" y=\"-612.3\">(None, 14, 70, 32)</text>\n",
       "<polyline fill=\"none\" points=\"670,-604.5 788,-604.5 \" stroke=\"black\"/>\n",
       "<text font-family=\"Times,serif\" font-size=\"14.00\" text-anchor=\"middle\" x=\"729\" y=\"-589.3\">(None, 14, 70, 64)</text>\n",
       "</g>\n",
       "<!-- 140290656679952&#45;&gt;140290654676496 -->\n",
       "<g class=\"edge\" id=\"edge5\"><title>140290656679952-&gt;140290654676496</title>\n",
       "<path d=\"M640,-664.366C640,-656.152 640,-646.658 640,-637.725\" fill=\"none\" stroke=\"black\"/>\n",
       "<polygon fill=\"black\" points=\"643.5,-637.607 640,-627.607 636.5,-637.607 643.5,-637.607\" stroke=\"black\"/>\n",
       "</g>\n",
       "<!-- 140290615420048 -->\n",
       "<g class=\"node\" id=\"node7\"><title>140290615420048</title>\n",
       "<polygon fill=\"none\" points=\"492,-498.5 492,-544.5 788,-544.5 788,-498.5 492,-498.5\" stroke=\"black\"/>\n",
       "<text font-family=\"Times,serif\" font-size=\"14.00\" text-anchor=\"middle\" x=\"553.5\" y=\"-517.8\">conv2d_8: Conv2D</text>\n",
       "<polyline fill=\"none\" points=\"615,-498.5 615,-544.5 \" stroke=\"black\"/>\n",
       "<text font-family=\"Times,serif\" font-size=\"14.00\" text-anchor=\"middle\" x=\"642.5\" y=\"-529.3\">input:</text>\n",
       "<polyline fill=\"none\" points=\"615,-521.5 670,-521.5 \" stroke=\"black\"/>\n",
       "<text font-family=\"Times,serif\" font-size=\"14.00\" text-anchor=\"middle\" x=\"642.5\" y=\"-506.3\">output:</text>\n",
       "<polyline fill=\"none\" points=\"670,-498.5 670,-544.5 \" stroke=\"black\"/>\n",
       "<text font-family=\"Times,serif\" font-size=\"14.00\" text-anchor=\"middle\" x=\"729\" y=\"-529.3\">(None, 14, 70, 64)</text>\n",
       "<polyline fill=\"none\" points=\"670,-521.5 788,-521.5 \" stroke=\"black\"/>\n",
       "<text font-family=\"Times,serif\" font-size=\"14.00\" text-anchor=\"middle\" x=\"729\" y=\"-506.3\">(None, 14, 70, 64)</text>\n",
       "</g>\n",
       "<!-- 140290654676496&#45;&gt;140290615420048 -->\n",
       "<g class=\"edge\" id=\"edge6\"><title>140290654676496-&gt;140290615420048</title>\n",
       "<path d=\"M640,-581.366C640,-573.152 640,-563.658 640,-554.725\" fill=\"none\" stroke=\"black\"/>\n",
       "<polygon fill=\"black\" points=\"643.5,-554.607 640,-544.607 636.5,-554.607 643.5,-554.607\" stroke=\"black\"/>\n",
       "</g>\n",
       "<!-- 140290656493072 -->\n",
       "<g class=\"node\" id=\"node8\"><title>140290656493072</title>\n",
       "<polygon fill=\"none\" points=\"450,-415.5 450,-461.5 830,-461.5 830,-415.5 450,-415.5\" stroke=\"black\"/>\n",
       "<text font-family=\"Times,serif\" font-size=\"14.00\" text-anchor=\"middle\" x=\"553.5\" y=\"-434.8\">max_pooling2d_4: MaxPooling2D</text>\n",
       "<polyline fill=\"none\" points=\"657,-415.5 657,-461.5 \" stroke=\"black\"/>\n",
       "<text font-family=\"Times,serif\" font-size=\"14.00\" text-anchor=\"middle\" x=\"684.5\" y=\"-446.3\">input:</text>\n",
       "<polyline fill=\"none\" points=\"657,-438.5 712,-438.5 \" stroke=\"black\"/>\n",
       "<text font-family=\"Times,serif\" font-size=\"14.00\" text-anchor=\"middle\" x=\"684.5\" y=\"-423.3\">output:</text>\n",
       "<polyline fill=\"none\" points=\"712,-415.5 712,-461.5 \" stroke=\"black\"/>\n",
       "<text font-family=\"Times,serif\" font-size=\"14.00\" text-anchor=\"middle\" x=\"771\" y=\"-446.3\">(None, 14, 70, 64)</text>\n",
       "<polyline fill=\"none\" points=\"712,-438.5 830,-438.5 \" stroke=\"black\"/>\n",
       "<text font-family=\"Times,serif\" font-size=\"14.00\" text-anchor=\"middle\" x=\"771\" y=\"-423.3\">(None, 7, 35, 64)</text>\n",
       "</g>\n",
       "<!-- 140290615420048&#45;&gt;140290656493072 -->\n",
       "<g class=\"edge\" id=\"edge7\"><title>140290615420048-&gt;140290656493072</title>\n",
       "<path d=\"M640,-498.366C640,-490.152 640,-480.658 640,-471.725\" fill=\"none\" stroke=\"black\"/>\n",
       "<polygon fill=\"black\" points=\"643.5,-471.607 640,-461.607 636.5,-471.607 643.5,-471.607\" stroke=\"black\"/>\n",
       "</g>\n",
       "<!-- 140290615574288 -->\n",
       "<g class=\"node\" id=\"node9\"><title>140290615574288</title>\n",
       "<polygon fill=\"none\" points=\"494.5,-332.5 494.5,-378.5 785.5,-378.5 785.5,-332.5 494.5,-332.5\" stroke=\"black\"/>\n",
       "<text font-family=\"Times,serif\" font-size=\"14.00\" text-anchor=\"middle\" x=\"557\" y=\"-351.8\">dropout_5: Dropout</text>\n",
       "<polyline fill=\"none\" points=\"619.5,-332.5 619.5,-378.5 \" stroke=\"black\"/>\n",
       "<text font-family=\"Times,serif\" font-size=\"14.00\" text-anchor=\"middle\" x=\"647\" y=\"-363.3\">input:</text>\n",
       "<polyline fill=\"none\" points=\"619.5,-355.5 674.5,-355.5 \" stroke=\"black\"/>\n",
       "<text font-family=\"Times,serif\" font-size=\"14.00\" text-anchor=\"middle\" x=\"647\" y=\"-340.3\">output:</text>\n",
       "<polyline fill=\"none\" points=\"674.5,-332.5 674.5,-378.5 \" stroke=\"black\"/>\n",
       "<text font-family=\"Times,serif\" font-size=\"14.00\" text-anchor=\"middle\" x=\"730\" y=\"-363.3\">(None, 7, 35, 64)</text>\n",
       "<polyline fill=\"none\" points=\"674.5,-355.5 785.5,-355.5 \" stroke=\"black\"/>\n",
       "<text font-family=\"Times,serif\" font-size=\"14.00\" text-anchor=\"middle\" x=\"730\" y=\"-340.3\">(None, 7, 35, 64)</text>\n",
       "</g>\n",
       "<!-- 140290656493072&#45;&gt;140290615574288 -->\n",
       "<g class=\"edge\" id=\"edge8\"><title>140290656493072-&gt;140290615574288</title>\n",
       "<path d=\"M640,-415.366C640,-407.152 640,-397.658 640,-388.725\" fill=\"none\" stroke=\"black\"/>\n",
       "<polygon fill=\"black\" points=\"643.5,-388.607 640,-378.607 636.5,-388.607 643.5,-388.607\" stroke=\"black\"/>\n",
       "</g>\n",
       "<!-- 140290656406288 -->\n",
       "<g class=\"node\" id=\"node10\"><title>140290656406288</title>\n",
       "<polygon fill=\"none\" points=\"502,-249.5 502,-295.5 778,-295.5 778,-249.5 502,-249.5\" stroke=\"black\"/>\n",
       "<text font-family=\"Times,serif\" font-size=\"14.00\" text-anchor=\"middle\" x=\"557\" y=\"-268.8\">flatten_2: Flatten</text>\n",
       "<polyline fill=\"none\" points=\"612,-249.5 612,-295.5 \" stroke=\"black\"/>\n",
       "<text font-family=\"Times,serif\" font-size=\"14.00\" text-anchor=\"middle\" x=\"639.5\" y=\"-280.3\">input:</text>\n",
       "<polyline fill=\"none\" points=\"612,-272.5 667,-272.5 \" stroke=\"black\"/>\n",
       "<text font-family=\"Times,serif\" font-size=\"14.00\" text-anchor=\"middle\" x=\"639.5\" y=\"-257.3\">output:</text>\n",
       "<polyline fill=\"none\" points=\"667,-249.5 667,-295.5 \" stroke=\"black\"/>\n",
       "<text font-family=\"Times,serif\" font-size=\"14.00\" text-anchor=\"middle\" x=\"722.5\" y=\"-280.3\">(None, 7, 35, 64)</text>\n",
       "<polyline fill=\"none\" points=\"667,-272.5 778,-272.5 \" stroke=\"black\"/>\n",
       "<text font-family=\"Times,serif\" font-size=\"14.00\" text-anchor=\"middle\" x=\"722.5\" y=\"-257.3\">(None, 15680)</text>\n",
       "</g>\n",
       "<!-- 140290615574288&#45;&gt;140290656406288 -->\n",
       "<g class=\"edge\" id=\"edge9\"><title>140290615574288-&gt;140290656406288</title>\n",
       "<path d=\"M640,-332.366C640,-324.152 640,-314.658 640,-305.725\" fill=\"none\" stroke=\"black\"/>\n",
       "<polygon fill=\"black\" points=\"643.5,-305.607 640,-295.607 636.5,-305.607 643.5,-305.607\" stroke=\"black\"/>\n",
       "</g>\n",
       "<!-- 140290656425872 -->\n",
       "<g class=\"node\" id=\"node11\"><title>140290656425872</title>\n",
       "<polygon fill=\"none\" points=\"513.5,-166.5 513.5,-212.5 766.5,-212.5 766.5,-166.5 513.5,-166.5\" stroke=\"black\"/>\n",
       "<text font-family=\"Times,serif\" font-size=\"14.00\" text-anchor=\"middle\" x=\"564.5\" y=\"-185.8\">dense_7: Dense</text>\n",
       "<polyline fill=\"none\" points=\"615.5,-166.5 615.5,-212.5 \" stroke=\"black\"/>\n",
       "<text font-family=\"Times,serif\" font-size=\"14.00\" text-anchor=\"middle\" x=\"643\" y=\"-197.3\">input:</text>\n",
       "<polyline fill=\"none\" points=\"615.5,-189.5 670.5,-189.5 \" stroke=\"black\"/>\n",
       "<text font-family=\"Times,serif\" font-size=\"14.00\" text-anchor=\"middle\" x=\"643\" y=\"-174.3\">output:</text>\n",
       "<polyline fill=\"none\" points=\"670.5,-166.5 670.5,-212.5 \" stroke=\"black\"/>\n",
       "<text font-family=\"Times,serif\" font-size=\"14.00\" text-anchor=\"middle\" x=\"718.5\" y=\"-197.3\">(None, 15680)</text>\n",
       "<polyline fill=\"none\" points=\"670.5,-189.5 766.5,-189.5 \" stroke=\"black\"/>\n",
       "<text font-family=\"Times,serif\" font-size=\"14.00\" text-anchor=\"middle\" x=\"718.5\" y=\"-174.3\">(None, 256)</text>\n",
       "</g>\n",
       "<!-- 140290656406288&#45;&gt;140290656425872 -->\n",
       "<g class=\"edge\" id=\"edge10\"><title>140290656406288-&gt;140290656425872</title>\n",
       "<path d=\"M640,-249.366C640,-241.152 640,-231.658 640,-222.725\" fill=\"none\" stroke=\"black\"/>\n",
       "<polygon fill=\"black\" points=\"643.5,-222.607 640,-212.607 636.5,-222.607 643.5,-222.607\" stroke=\"black\"/>\n",
       "</g>\n",
       "<!-- 140290656519696 -->\n",
       "<g class=\"node\" id=\"node12\"><title>140290656519696</title>\n",
       "<polygon fill=\"none\" points=\"508.5,-83.5 508.5,-129.5 771.5,-129.5 771.5,-83.5 508.5,-83.5\" stroke=\"black\"/>\n",
       "<text font-family=\"Times,serif\" font-size=\"14.00\" text-anchor=\"middle\" x=\"571\" y=\"-102.8\">dropout_6: Dropout</text>\n",
       "<polyline fill=\"none\" points=\"633.5,-83.5 633.5,-129.5 \" stroke=\"black\"/>\n",
       "<text font-family=\"Times,serif\" font-size=\"14.00\" text-anchor=\"middle\" x=\"661\" y=\"-114.3\">input:</text>\n",
       "<polyline fill=\"none\" points=\"633.5,-106.5 688.5,-106.5 \" stroke=\"black\"/>\n",
       "<text font-family=\"Times,serif\" font-size=\"14.00\" text-anchor=\"middle\" x=\"661\" y=\"-91.3\">output:</text>\n",
       "<polyline fill=\"none\" points=\"688.5,-83.5 688.5,-129.5 \" stroke=\"black\"/>\n",
       "<text font-family=\"Times,serif\" font-size=\"14.00\" text-anchor=\"middle\" x=\"730\" y=\"-114.3\">(None, 256)</text>\n",
       "<polyline fill=\"none\" points=\"688.5,-106.5 771.5,-106.5 \" stroke=\"black\"/>\n",
       "<text font-family=\"Times,serif\" font-size=\"14.00\" text-anchor=\"middle\" x=\"730\" y=\"-91.3\">(None, 256)</text>\n",
       "</g>\n",
       "<!-- 140290656425872&#45;&gt;140290656519696 -->\n",
       "<g class=\"edge\" id=\"edge11\"><title>140290656425872-&gt;140290656519696</title>\n",
       "<path d=\"M640,-166.366C640,-158.152 640,-148.658 640,-139.725\" fill=\"none\" stroke=\"black\"/>\n",
       "<polygon fill=\"black\" points=\"643.5,-139.607 640,-129.607 636.5,-139.607 643.5,-139.607\" stroke=\"black\"/>\n",
       "</g>\n",
       "<!-- 140290658152720 -->\n",
       "<g class=\"node\" id=\"node13\"><title>140290658152720</title>\n",
       "<polygon fill=\"none\" points=\"0,-0.5 0,-46.5 240,-46.5 240,-0.5 0,-0.5\" stroke=\"black\"/>\n",
       "<text font-family=\"Times,serif\" font-size=\"14.00\" text-anchor=\"middle\" x=\"51\" y=\"-19.8\">dense_8: Dense</text>\n",
       "<polyline fill=\"none\" points=\"102,-0.5 102,-46.5 \" stroke=\"black\"/>\n",
       "<text font-family=\"Times,serif\" font-size=\"14.00\" text-anchor=\"middle\" x=\"129.5\" y=\"-31.3\">input:</text>\n",
       "<polyline fill=\"none\" points=\"102,-23.5 157,-23.5 \" stroke=\"black\"/>\n",
       "<text font-family=\"Times,serif\" font-size=\"14.00\" text-anchor=\"middle\" x=\"129.5\" y=\"-8.3\">output:</text>\n",
       "<polyline fill=\"none\" points=\"157,-0.5 157,-46.5 \" stroke=\"black\"/>\n",
       "<text font-family=\"Times,serif\" font-size=\"14.00\" text-anchor=\"middle\" x=\"198.5\" y=\"-31.3\">(None, 256)</text>\n",
       "<polyline fill=\"none\" points=\"157,-23.5 240,-23.5 \" stroke=\"black\"/>\n",
       "<text font-family=\"Times,serif\" font-size=\"14.00\" text-anchor=\"middle\" x=\"198.5\" y=\"-8.3\">(None, 11)</text>\n",
       "</g>\n",
       "<!-- 140290656519696&#45;&gt;140290658152720 -->\n",
       "<g class=\"edge\" id=\"edge12\"><title>140290656519696-&gt;140290658152720</title>\n",
       "<path d=\"M508.205,-86.591C434.998,-75.8924 342.019,-61.9844 250.183,-47.1765\" fill=\"none\" stroke=\"black\"/>\n",
       "<polygon fill=\"black\" points=\"250.58,-43.6954 240.15,-45.5544 249.463,-50.6056 250.58,-43.6954\" stroke=\"black\"/>\n",
       "</g>\n",
       "<!-- 140290651932368 -->\n",
       "<g class=\"node\" id=\"node14\"><title>140290651932368</title>\n",
       "<polygon fill=\"none\" points=\"258,-0.5 258,-46.5 498,-46.5 498,-0.5 258,-0.5\" stroke=\"black\"/>\n",
       "<text font-family=\"Times,serif\" font-size=\"14.00\" text-anchor=\"middle\" x=\"309\" y=\"-19.8\">dense_9: Dense</text>\n",
       "<polyline fill=\"none\" points=\"360,-0.5 360,-46.5 \" stroke=\"black\"/>\n",
       "<text font-family=\"Times,serif\" font-size=\"14.00\" text-anchor=\"middle\" x=\"387.5\" y=\"-31.3\">input:</text>\n",
       "<polyline fill=\"none\" points=\"360,-23.5 415,-23.5 \" stroke=\"black\"/>\n",
       "<text font-family=\"Times,serif\" font-size=\"14.00\" text-anchor=\"middle\" x=\"387.5\" y=\"-8.3\">output:</text>\n",
       "<polyline fill=\"none\" points=\"415,-0.5 415,-46.5 \" stroke=\"black\"/>\n",
       "<text font-family=\"Times,serif\" font-size=\"14.00\" text-anchor=\"middle\" x=\"456.5\" y=\"-31.3\">(None, 256)</text>\n",
       "<polyline fill=\"none\" points=\"415,-23.5 498,-23.5 \" stroke=\"black\"/>\n",
       "<text font-family=\"Times,serif\" font-size=\"14.00\" text-anchor=\"middle\" x=\"456.5\" y=\"-8.3\">(None, 11)</text>\n",
       "</g>\n",
       "<!-- 140290656519696&#45;&gt;140290651932368 -->\n",
       "<g class=\"edge\" id=\"edge13\"><title>140290656519696-&gt;140290651932368</title>\n",
       "<path d=\"M568.753,-83.4734C534.819,-72.9822 494.076,-60.3862 458.973,-49.5337\" fill=\"none\" stroke=\"black\"/>\n",
       "<polygon fill=\"black\" points=\"459.82,-46.1321 449.232,-46.5222 457.752,-52.8198 459.82,-46.1321\" stroke=\"black\"/>\n",
       "</g>\n",
       "<!-- 140290651758096 -->\n",
       "<g class=\"node\" id=\"node15\"><title>140290651758096</title>\n",
       "<polygon fill=\"none\" points=\"516.5,-0.5 516.5,-46.5 763.5,-46.5 763.5,-0.5 516.5,-0.5\" stroke=\"black\"/>\n",
       "<text font-family=\"Times,serif\" font-size=\"14.00\" text-anchor=\"middle\" x=\"571\" y=\"-19.8\">dense_10: Dense</text>\n",
       "<polyline fill=\"none\" points=\"625.5,-0.5 625.5,-46.5 \" stroke=\"black\"/>\n",
       "<text font-family=\"Times,serif\" font-size=\"14.00\" text-anchor=\"middle\" x=\"653\" y=\"-31.3\">input:</text>\n",
       "<polyline fill=\"none\" points=\"625.5,-23.5 680.5,-23.5 \" stroke=\"black\"/>\n",
       "<text font-family=\"Times,serif\" font-size=\"14.00\" text-anchor=\"middle\" x=\"653\" y=\"-8.3\">output:</text>\n",
       "<polyline fill=\"none\" points=\"680.5,-0.5 680.5,-46.5 \" stroke=\"black\"/>\n",
       "<text font-family=\"Times,serif\" font-size=\"14.00\" text-anchor=\"middle\" x=\"722\" y=\"-31.3\">(None, 256)</text>\n",
       "<polyline fill=\"none\" points=\"680.5,-23.5 763.5,-23.5 \" stroke=\"black\"/>\n",
       "<text font-family=\"Times,serif\" font-size=\"14.00\" text-anchor=\"middle\" x=\"722\" y=\"-8.3\">(None, 11)</text>\n",
       "</g>\n",
       "<!-- 140290656519696&#45;&gt;140290651758096 -->\n",
       "<g class=\"edge\" id=\"edge14\"><title>140290656519696-&gt;140290651758096</title>\n",
       "<path d=\"M640,-83.3664C640,-75.1516 640,-65.6579 640,-56.7252\" fill=\"none\" stroke=\"black\"/>\n",
       "<polygon fill=\"black\" points=\"643.5,-56.6068 640,-46.6068 636.5,-56.6069 643.5,-56.6068\" stroke=\"black\"/>\n",
       "</g>\n",
       "<!-- 140290615749392 -->\n",
       "<g class=\"node\" id=\"node16\"><title>140290615749392</title>\n",
       "<polygon fill=\"none\" points=\"781.5,-0.5 781.5,-46.5 1028.5,-46.5 1028.5,-0.5 781.5,-0.5\" stroke=\"black\"/>\n",
       "<text font-family=\"Times,serif\" font-size=\"14.00\" text-anchor=\"middle\" x=\"836\" y=\"-19.8\">dense_11: Dense</text>\n",
       "<polyline fill=\"none\" points=\"890.5,-0.5 890.5,-46.5 \" stroke=\"black\"/>\n",
       "<text font-family=\"Times,serif\" font-size=\"14.00\" text-anchor=\"middle\" x=\"918\" y=\"-31.3\">input:</text>\n",
       "<polyline fill=\"none\" points=\"890.5,-23.5 945.5,-23.5 \" stroke=\"black\"/>\n",
       "<text font-family=\"Times,serif\" font-size=\"14.00\" text-anchor=\"middle\" x=\"918\" y=\"-8.3\">output:</text>\n",
       "<polyline fill=\"none\" points=\"945.5,-0.5 945.5,-46.5 \" stroke=\"black\"/>\n",
       "<text font-family=\"Times,serif\" font-size=\"14.00\" text-anchor=\"middle\" x=\"987\" y=\"-31.3\">(None, 256)</text>\n",
       "<polyline fill=\"none\" points=\"945.5,-23.5 1028.5,-23.5 \" stroke=\"black\"/>\n",
       "<text font-family=\"Times,serif\" font-size=\"14.00\" text-anchor=\"middle\" x=\"987\" y=\"-8.3\">(None, 11)</text>\n",
       "</g>\n",
       "<!-- 140290656519696&#45;&gt;140290615749392 -->\n",
       "<g class=\"edge\" id=\"edge15\"><title>140290656519696-&gt;140290615749392</title>\n",
       "<path d=\"M712.062,-83.4734C746.385,-72.9822 787.595,-60.3862 823.099,-49.5337\" fill=\"none\" stroke=\"black\"/>\n",
       "<polygon fill=\"black\" points=\"824.412,-52.7925 832.952,-46.5222 822.366,-46.0983 824.412,-52.7925\" stroke=\"black\"/>\n",
       "</g>\n",
       "<!-- 140290615883152 -->\n",
       "<g class=\"node\" id=\"node17\"><title>140290615883152</title>\n",
       "<polygon fill=\"none\" points=\"1046.5,-0.5 1046.5,-46.5 1293.5,-46.5 1293.5,-0.5 1046.5,-0.5\" stroke=\"black\"/>\n",
       "<text font-family=\"Times,serif\" font-size=\"14.00\" text-anchor=\"middle\" x=\"1101\" y=\"-19.8\">dense_12: Dense</text>\n",
       "<polyline fill=\"none\" points=\"1155.5,-0.5 1155.5,-46.5 \" stroke=\"black\"/>\n",
       "<text font-family=\"Times,serif\" font-size=\"14.00\" text-anchor=\"middle\" x=\"1183\" y=\"-31.3\">input:</text>\n",
       "<polyline fill=\"none\" points=\"1155.5,-23.5 1210.5,-23.5 \" stroke=\"black\"/>\n",
       "<text font-family=\"Times,serif\" font-size=\"14.00\" text-anchor=\"middle\" x=\"1183\" y=\"-8.3\">output:</text>\n",
       "<polyline fill=\"none\" points=\"1210.5,-0.5 1210.5,-46.5 \" stroke=\"black\"/>\n",
       "<text font-family=\"Times,serif\" font-size=\"14.00\" text-anchor=\"middle\" x=\"1252\" y=\"-31.3\">(None, 256)</text>\n",
       "<polyline fill=\"none\" points=\"1210.5,-23.5 1293.5,-23.5 \" stroke=\"black\"/>\n",
       "<text font-family=\"Times,serif\" font-size=\"14.00\" text-anchor=\"middle\" x=\"1252\" y=\"-8.3\">(None, 11)</text>\n",
       "</g>\n",
       "<!-- 140290656519696&#45;&gt;140290615883152 -->\n",
       "<g class=\"edge\" id=\"edge16\"><title>140290656519696-&gt;140290615883152</title>\n",
       "<path d=\"M771.876,-86.8888C846.782,-76.1314 942.56,-62.0659 1036.4,-47.2413\" fill=\"none\" stroke=\"black\"/>\n",
       "<polygon fill=\"black\" points=\"1037.02,-50.6861 1046.35,-45.6647 1035.93,-43.7722 1037.02,-50.6861\" stroke=\"black\"/>\n",
       "</g>\n",
       "</g>\n",
       "</svg>"
      ],
      "text/plain": [
       "<IPython.core.display.SVG object>"
      ]
     },
     "execution_count": 9,
     "metadata": {},
     "output_type": "execute_result"
    }
   ],
   "source": [
    "from keras.utils.vis_utils import plot_model, model_to_dot\n",
    "from IPython.display import Image, SVG\n",
    "\n",
    "# TODO: 可视化你的模型\n",
    "SVG(model_to_dot(model, show_shapes=True).create(prog='dot', format='svg'))"
   ]
  },
  {
   "cell_type": "markdown",
   "metadata": {},
   "source": [
    "### 问题 3\n",
    "_你最终的模型架构是什么样的？（什么类型的模型，层数，大小, 如何连接等）_\n",
    "\n",
    "**回答：**\n",
    "模型结构基本呈逐层叠加的线性结构。层数、大小如上图。"
   ]
  },
  {
   "cell_type": "markdown",
   "metadata": {},
   "source": [
    "### 练习：训练你的网络模型\n",
    "\n",
    "训练你的模型时，需要设置训练集和验证集。"
   ]
  },
  {
   "cell_type": "code",
   "execution_count": 10,
   "metadata": {},
   "outputs": [
    {
     "name": "stdout",
     "output_type": "stream",
     "text": [
      "Train on 48000 samples, validate on 12000 samples\n",
      "Epoch 1/10\n",
      "48000/48000 [==============================] - 55s - loss: 6.5675 - dense_8_loss: 1.8111 - dense_9_loss: 1.6199 - dense_10_loss: 1.3950 - dense_11_loss: 1.0698 - dense_12_loss: 0.6717 - dense_8_categorical_accuracy: 0.3727 - dense_9_categorical_accuracy: 0.4531 - dense_10_categorical_accuracy: 0.5406 - dense_11_categorical_accuracy: 0.6613 - dense_12_categorical_accuracy: 0.8147 - val_loss: 3.0886 - val_dense_8_loss: 0.7308 - val_dense_9_loss: 0.6836 - val_dense_10_loss: 0.6751 - val_dense_11_loss: 0.6213 - val_dense_12_loss: 0.3777 - val_dense_8_categorical_accuracy: 0.8258 - val_dense_9_categorical_accuracy: 0.8388 - val_dense_10_categorical_accuracy: 0.8523 - val_dense_11_categorical_accuracy: 0.8459 - val_dense_12_categorical_accuracy: 0.8840\n",
      "Epoch 2/10\n",
      "48000/48000 [==============================] - 50s - loss: 3.5041 - dense_8_loss: 0.8429 - dense_9_loss: 0.8043 - dense_10_loss: 0.7442 - dense_11_loss: 0.6529 - dense_12_loss: 0.4599 - dense_8_categorical_accuracy: 0.7132 - dense_9_categorical_accuracy: 0.7238 - dense_10_categorical_accuracy: 0.7457 - dense_11_categorical_accuracy: 0.7774 - dense_12_categorical_accuracy: 0.8519 - val_loss: 1.4782 - val_dense_8_loss: 0.3284 - val_dense_9_loss: 0.3137 - val_dense_10_loss: 0.2988 - val_dense_11_loss: 0.3003 - val_dense_12_loss: 0.2370 - val_dense_8_categorical_accuracy: 0.9176 - val_dense_9_categorical_accuracy: 0.9251 - val_dense_10_categorical_accuracy: 0.9275 - val_dense_11_categorical_accuracy: 0.9353 - val_dense_12_categorical_accuracy: 0.9391\n",
      "Epoch 3/10\n",
      "48000/48000 [==============================] - 50s - loss: 2.5572 - dense_8_loss: 0.6064 - dense_9_loss: 0.5906 - dense_10_loss: 0.5292 - dense_11_loss: 0.4734 - dense_12_loss: 0.3576 - dense_8_categorical_accuracy: 0.7988 - dense_9_categorical_accuracy: 0.8037 - dense_10_categorical_accuracy: 0.8222 - dense_11_categorical_accuracy: 0.8389 - dense_12_categorical_accuracy: 0.8799 - val_loss: 0.9381 - val_dense_8_loss: 0.2194 - val_dense_9_loss: 0.2073 - val_dense_10_loss: 0.1795 - val_dense_11_loss: 0.1728 - val_dense_12_loss: 0.1592 - val_dense_8_categorical_accuracy: 0.9417 - val_dense_9_categorical_accuracy: 0.9464 - val_dense_10_categorical_accuracy: 0.9561 - val_dense_11_categorical_accuracy: 0.9648 - val_dense_12_categorical_accuracy: 0.9633\n",
      "Epoch 4/10\n",
      "48000/48000 [==============================] - 50s - loss: 2.0313 - dense_8_loss: 0.4770 - dense_9_loss: 0.4623 - dense_10_loss: 0.4231 - dense_11_loss: 0.3812 - dense_12_loss: 0.2877 - dense_8_categorical_accuracy: 0.8436 - dense_9_categorical_accuracy: 0.8480 - dense_10_categorical_accuracy: 0.8586 - dense_11_categorical_accuracy: 0.8716 - dense_12_categorical_accuracy: 0.9037 - val_loss: 0.9098 - val_dense_8_loss: 0.2249 - val_dense_9_loss: 0.2054 - val_dense_10_loss: 0.1783 - val_dense_11_loss: 0.1667 - val_dense_12_loss: 0.1344 - val_dense_8_categorical_accuracy: 0.9418 - val_dense_9_categorical_accuracy: 0.9483 - val_dense_10_categorical_accuracy: 0.9558 - val_dense_11_categorical_accuracy: 0.9666 - val_dense_12_categorical_accuracy: 0.9754\n",
      "Epoch 5/10\n",
      "48000/48000 [==============================] - 50s - loss: 1.6940 - dense_8_loss: 0.4085 - dense_9_loss: 0.3894 - dense_10_loss: 0.3518 - dense_11_loss: 0.3103 - dense_12_loss: 0.2340 - dense_8_categorical_accuracy: 0.8679 - dense_9_categorical_accuracy: 0.8728 - dense_10_categorical_accuracy: 0.8824 - dense_11_categorical_accuracy: 0.8951 - dense_12_categorical_accuracy: 0.9219 - val_loss: 0.6743 - val_dense_8_loss: 0.1809 - val_dense_9_loss: 0.1556 - val_dense_10_loss: 0.1259 - val_dense_11_loss: 0.1135 - val_dense_12_loss: 0.0984 - val_dense_8_categorical_accuracy: 0.9517 - val_dense_9_categorical_accuracy: 0.9594 - val_dense_10_categorical_accuracy: 0.9679 - val_dense_11_categorical_accuracy: 0.9761 - val_dense_12_categorical_accuracy: 0.9806\n",
      "Epoch 6/10\n",
      "48000/48000 [==============================] - 50s - loss: 1.4963 - dense_8_loss: 0.3613 - dense_9_loss: 0.3475 - dense_10_loss: 0.3084 - dense_11_loss: 0.2744 - dense_12_loss: 0.2046 - dense_8_categorical_accuracy: 0.8829 - dense_9_categorical_accuracy: 0.8870 - dense_10_categorical_accuracy: 0.9003 - dense_11_categorical_accuracy: 0.9089 - dense_12_categorical_accuracy: 0.9326 - val_loss: 0.4587 - val_dense_8_loss: 0.1227 - val_dense_9_loss: 0.1108 - val_dense_10_loss: 0.0860 - val_dense_11_loss: 0.0760 - val_dense_12_loss: 0.0632 - val_dense_8_categorical_accuracy: 0.9633 - val_dense_9_categorical_accuracy: 0.9690 - val_dense_10_categorical_accuracy: 0.9752 - val_dense_11_categorical_accuracy: 0.9810 - val_dense_12_categorical_accuracy: 0.9866\n",
      "Epoch 7/10\n",
      "48000/48000 [==============================] - 50s - loss: 1.3271 - dense_8_loss: 0.3204 - dense_9_loss: 0.3069 - dense_10_loss: 0.2748 - dense_11_loss: 0.2419 - dense_12_loss: 0.1831 - dense_8_categorical_accuracy: 0.8970 - dense_9_categorical_accuracy: 0.9008 - dense_10_categorical_accuracy: 0.9117 - dense_11_categorical_accuracy: 0.9205 - dense_12_categorical_accuracy: 0.9395 - val_loss: 0.4260 - val_dense_8_loss: 0.1185 - val_dense_9_loss: 0.1001 - val_dense_10_loss: 0.0815 - val_dense_11_loss: 0.0678 - val_dense_12_loss: 0.0580 - val_dense_8_categorical_accuracy: 0.9632 - val_dense_9_categorical_accuracy: 0.9705 - val_dense_10_categorical_accuracy: 0.9772 - val_dense_11_categorical_accuracy: 0.9833 - val_dense_12_categorical_accuracy: 0.9859\n",
      "Epoch 8/10\n",
      "48000/48000 [==============================] - 50s - loss: 1.2082 - dense_8_loss: 0.2878 - dense_9_loss: 0.2773 - dense_10_loss: 0.2565 - dense_11_loss: 0.2205 - dense_12_loss: 0.1661 - dense_8_categorical_accuracy: 0.9072 - dense_9_categorical_accuracy: 0.9106 - dense_10_categorical_accuracy: 0.9167 - dense_11_categorical_accuracy: 0.9282 - dense_12_categorical_accuracy: 0.9460 - val_loss: 0.3763 - val_dense_8_loss: 0.1052 - val_dense_9_loss: 0.0911 - val_dense_10_loss: 0.0717 - val_dense_11_loss: 0.0599 - val_dense_12_loss: 0.0483 - val_dense_8_categorical_accuracy: 0.9679 - val_dense_9_categorical_accuracy: 0.9746 - val_dense_10_categorical_accuracy: 0.9793 - val_dense_11_categorical_accuracy: 0.9844 - val_dense_12_categorical_accuracy: 0.9897\n",
      "Epoch 9/10\n",
      "48000/48000 [==============================] - 50s - loss: 1.1230 - dense_8_loss: 0.2702 - dense_9_loss: 0.2582 - dense_10_loss: 0.2345 - dense_11_loss: 0.2051 - dense_12_loss: 0.1550 - dense_8_categorical_accuracy: 0.9134 - dense_9_categorical_accuracy: 0.9177 - dense_10_categorical_accuracy: 0.9248 - dense_11_categorical_accuracy: 0.9323 - dense_12_categorical_accuracy: 0.9484 - val_loss: 0.3622 - val_dense_8_loss: 0.1042 - val_dense_9_loss: 0.0875 - val_dense_10_loss: 0.0688 - val_dense_11_loss: 0.0557 - val_dense_12_loss: 0.0460 - val_dense_8_categorical_accuracy: 0.9688 - val_dense_9_categorical_accuracy: 0.9735 - val_dense_10_categorical_accuracy: 0.9808 - val_dense_11_categorical_accuracy: 0.9853 - val_dense_12_categorical_accuracy: 0.9893\n",
      "Epoch 10/10\n",
      "48000/48000 [==============================] - 50s - loss: 1.0451 - dense_8_loss: 0.2539 - dense_9_loss: 0.2408 - dense_10_loss: 0.2195 - dense_11_loss: 0.1869 - dense_12_loss: 0.1440 - dense_8_categorical_accuracy: 0.9190 - dense_9_categorical_accuracy: 0.9231 - dense_10_categorical_accuracy: 0.9289 - dense_11_categorical_accuracy: 0.9395 - dense_12_categorical_accuracy: 0.9533 - val_loss: 0.3285 - val_dense_8_loss: 0.0930 - val_dense_9_loss: 0.0798 - val_dense_10_loss: 0.0617 - val_dense_11_loss: 0.0530 - val_dense_12_loss: 0.0410 - val_dense_8_categorical_accuracy: 0.9715 - val_dense_9_categorical_accuracy: 0.9778 - val_dense_10_categorical_accuracy: 0.9837 - val_dense_11_categorical_accuracy: 0.9868 - val_dense_12_categorical_accuracy: 0.9908\n"
     ]
    },
    {
     "data": {
      "text/plain": [
       "<keras.callbacks.History at 0x7f97f6b8f4d0>"
      ]
     },
     "execution_count": 10,
     "metadata": {},
     "output_type": "execute_result"
    }
   ],
   "source": [
    "# TODO: 训练你的模型\n",
    "model.fit(X_train, y_train, batch_size=128, epochs=10, verbose=1, validation_data=(X_valid, y_valid))"
   ]
  },
  {
   "cell_type": "markdown",
   "metadata": {},
   "source": [
    "### 练习：计算你的模型准确率\n",
    "\n",
    "我们刚才得到了模型每个数字的准确率，现在让我们来计算整体准确率，按照完全预测正确数字序列的标准来计算。\n",
    "\n",
    "比如 1,2,3,10,10 预测成了 1,2,10,10,10 算错，而不是算对了80%。"
   ]
  },
  {
   "cell_type": "code",
   "execution_count": 28,
   "metadata": {
    "scrolled": true
   },
   "outputs": [
    {
     "name": "stdout",
     "output_type": "stream",
     "text": [
      "accuary: 92.5%\n"
     ]
    }
   ],
   "source": [
    "def evaluate(model, X, y):\n",
    "    # TODO: 按照错一个就算错的规则计算准确率\n",
    "    y_pred = model.predict(X)\n",
    "    compare = np.argmax(y_pred, axis=2) == np.argmax(y, axis=2)\n",
    "    return compare.all(axis=0).mean()\n",
    "                    \n",
    "print 'accuary: {:.1%}'.format(evaluate(model, X_test, y_test))"
   ]
  },
  {
   "cell_type": "markdown",
   "metadata": {},
   "source": [
    "### 问题 4\n",
    "\n",
    "_你的模型准确率有多少？你觉得你的模型足以解决问题吗？_\n",
    "\n",
    "**回答：**\n",
    "准确率达到92.5%, 我觉得已经足以解决问题了。"
   ]
  },
  {
   "cell_type": "markdown",
   "metadata": {},
   "source": [
    "### 预测值可视化\n",
    "\n",
    "我们将模型的预测结果和真实值画出来，观察真实效果。"
   ]
  },
  {
   "cell_type": "code",
   "execution_count": 34,
   "metadata": {},
   "outputs": [
    {
     "data": {
      "text/plain": [
       "(-0.5, 139.5, 27.5, -0.5)"
      ]
     },
     "execution_count": 34,
     "metadata": {},
     "output_type": "execute_result"
    },
    {
     "data": {
      "image/png": "[encoded data removed]",
      "text/plain": [
       "<matplotlib.figure.Figure at 0x7f97dc383b10>"
      ]
     },
     "metadata": {
      "image/png": {
       "height": 127,
       "width": 370
      }
     },
     "output_type": "display_data"
    }
   ],
   "source": [
    "def get_result(result):\n",
    "    # 将 one_hot 编码解码\n",
    "    resultstr = ''\n",
    "    for i in range(n_len):\n",
    "        resultstr += str(np.argmax(result[i])) + ','\n",
    "    return resultstr\n",
    "\n",
    "index = random.randint(0, n_test-1)\n",
    "y_pred = model.predict(X_test[index].reshape(1, height, width*n_len, 1))\n",
    "\n",
    "plt.title('real: %s\\npred:%s'%(get_result([y_test[x][index] for x in range(n_len)]), get_result(y_pred)))\n",
    "plt.imshow(X_test[index,:,:,0], cmap='gray')\n",
    "plt.axis('off')"
   ]
  },
  {
   "cell_type": "markdown",
   "metadata": {},
   "source": [
    "### 保存模型\n",
    "\n",
    "模型达到满意的效果以后，我们需要保存模型，以便下次调用。\n",
    "\n",
    "读取的方式也很简单：`model = load_model('model.h5')`"
   ]
  },
  {
   "cell_type": "code",
   "execution_count": 35,
   "metadata": {
    "collapsed": true
   },
   "outputs": [],
   "source": [
    "model.save('model.h5')"
   ]
  },
  {
   "cell_type": "code",
   "execution_count": null,
   "metadata": {
    "collapsed": true
   },
   "outputs": [],
   "source": []
  }
 ],
 "metadata": {
  "anaconda-cloud": {},
  "kernelspec": {
   "display_name": "Python 2",
   "language": "python",
   "name": "python2"
  },
  "language_info": {
   "codemirror_mode": {
    "name": "ipython",
    "version": 2
   },
   "file_extension": ".py",
   "mimetype": "text/x-python",
   "name": "python",
   "nbconvert_exporter": "python",
   "pygments_lexer": "ipython2",
   "version": "2.7.13"
  }
 },
 "nbformat": 4,
 "nbformat_minor": 1
}
